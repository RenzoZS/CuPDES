{
 "cells": [
  {
   "cell_type": "code",
   "execution_count": 30,
   "metadata": {},
   "outputs": [],
   "source": [
    "import cupy as cp\n",
    "import matplotlib.pyplot as plt\n",
    "from tqdm import tqdm\n",
    "import pf"
   ]
  },
  {
   "cell_type": "code",
   "execution_count": 36,
   "metadata": {},
   "outputs": [],
   "source": [
    "class System:\n",
    "    def __init__(self,N=1024):\n",
    "        self.N = N\n",
    "        self.S = []\n",
    "        self.I = []\n",
    "        self.fS = cp.zeros((N,N))\n",
    "        self.fI = cp.zeros((N,N))\n",
    "        self.lambda_ = []\n",
    "    \n",
    "    def set_initial_conditions(self,S0,I0):\n",
    "        self.S = S0\n",
    "        self.I = I0\n",
    "    \n",
    "    def set_plane_initial_conditions(self,x0 = 1):\n",
    "        self.S = cp.ones((self.N,self.N))\n",
    "        self.I = cp.zeros((self.N,self.N))\n",
    "        self.I[:,x0] = 1\n",
    "        self.S[:,x0] = 0\n",
    "    \n",
    "    def set_dic_lambda(self,lambda0=.2,p=0):\n",
    "        self.lambda_ = cp.random.choice([0,lambda0],size=(self.N,self.N),p = [p,1-p])\n",
    "    \n",
    "    def update(self,tstep=.1):\n",
    "        pf.forces(self.S,self.I,self.lambda_,self.N,self.fS,self.fI)\n",
    "        self.S += tstep*self.fS\n",
    "        self.I += tstep*self.fI\n",
    "    \n",
    "    def solve(self,tmax=1000,tstep=.1):\n",
    "        t = 0\n",
    "        while self.u_cm() < self.N*.8 and t <= tmax:\n",
    "            self.update(tstep)\n",
    "            self.rigid_x()\n",
    "            t += 1\n",
    "\n",
    "    def rigid_x(self):\n",
    "        self.S[:,0] = self.S[:,-1] = self.I[:,0] = self.I[:,-1] = 0\n",
    "    \n",
    "    def rigid_y(self):\n",
    "        self.S[0,:] = self.S[-1,:] = self.I[0,:] = self.I[-1,:] = 0\n",
    "    \n",
    "    def u(self):\n",
    "        return cp.argmax(self.I,axis=1)\n",
    "    \n",
    "    def u_cm(self):\n",
    "        return cp.mean(self.u())\n",
    "    \n",
    "    def u_sigma(self):\n",
    "        return cp.std(self.u())\n",
    "    \n",
    "    def u_fft(self):\n",
    "        return cp.square(cp.abs(cp.fft.fft(self.u())))\n",
    "    \n",
    "    def f_I(self):\n",
    "        return cp.roll(cp.mean(self.I,axis=0),int(-self.u_cm())+self.N//2)\n",
    "    \n",
    "    def mean_Ymax(self):\n",
    "        return cp.mean(cp.max(self.I,axis=1))\n",
    "    \n",
    "    def plot_u(self):\n",
    "        plt.matshow(cp.asnumpy(self.u()))\n",
    "\n",
    "    def plot_I(self):\n",
    "        plt.matshow(cp.asnumpy(self.I))\n",
    "    \n",
    "    def plot_S(self):\n",
    "        plt.matshow(cp.asnumpy(self.S))\n",
    "    \n",
    "    "
   ]
  },
  {
   "cell_type": "code",
   "execution_count": 37,
   "metadata": {},
   "outputs": [
    {
     "data": {
      "image/png": "[encoded data removed]",
      "text/plain": [
       "<Figure size 288x288 with 1 Axes>"
      ]
     },
     "metadata": {
      "needs_background": "light"
     },
     "output_type": "display_data"
    }
   ],
   "source": [
    "s = System(1024)\n",
    "s.set_plane_initial_conditions()\n",
    "s.set_dic_lambda(.2,0)\n",
    "\n",
    "s.solve(1000)\n",
    "\n",
    "s.plot_I()"
   ]
  },
  {
   "cell_type": "code",
   "execution_count": null,
   "metadata": {},
   "outputs": [],
   "source": []
  }
 ],
 "metadata": {
  "interpreter": {
   "hash": "f2d02e32de1a26c9ade085831f60d765228fe9cbe55e68a3c778de9bcfe4f7c5"
  },
  "kernelspec": {
   "display_name": "Python 3.9.7 ('base')",
   "language": "python",
   "name": "python3"
  },
  "language_info": {
   "codemirror_mode": {
    "name": "ipython",
    "version": 3
   },
   "file_extension": ".py",
   "mimetype": "text/x-python",
   "name": "python",
   "nbconvert_exporter": "python",
   "pygments_lexer": "ipython3",
   "version": "3.9.7"
  },
  "orig_nbformat": 4
 },
 "nbformat": 4,
 "nbformat_minor": 2
}
