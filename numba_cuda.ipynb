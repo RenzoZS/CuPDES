{
 "cells": [
  {
   "cell_type": "code",
   "execution_count": 1,
   "metadata": {},
   "outputs": [],
   "source": [
    "import numpy as np\n",
    "from numba import cuda, float64\n",
    "import cupy as cp\n",
    "import math\n",
    "import matplotlib.pyplot as plt"
   ]
  },
  {
   "cell_type": "code",
   "execution_count": 103,
   "metadata": {},
   "outputs": [],
   "source": [
    "def solve(S,I,lamb,tstep=.1,t_max = 50000):\n",
    "\n",
    "    Ly,Lx = S.shape\n",
    "    threadsperblock = (32,32)\n",
    "    blockspergrid = (math.ceil(Lx/32),math.ceil(Ly/32))\n",
    "   \n",
    "    @cuda.jit()\n",
    "    def forces(S,I,lamb,fS,fI):\n",
    "        i,j = cuda.grid(2)\n",
    "        if i < Ly and j < Lx:\n",
    "            fS[j,i] = -S[j,i]*I[j,i] + S[(j+1)%Lx,i] + S[(j-1+Lx)%Lx,i] + S[j,(i+1)%Ly] + S[j,(i-1+Ly)%Ly] - 4*S[j,i]\n",
    "            fI[j,i] = S[j,i]*I[j,i] - lamb[j,i]*I[j,i] + I[(j+1)%Lx,i] + I[(j-1+Lx)%Lx,i] + I[j,(i+1)%Ly] + I[j,(i-1+Ly)%Ly] - 4*I[j,i]\n",
    "    \n",
    "    fS = cp.zeros_like(S)\n",
    "    fI = cp.zeros_like(I)\n",
    "\n",
    "    for _ in range(t_max):\n",
    "        forces[blockspergrid,threadsperblock](S,I,lamb,fS,fI)\n",
    "        S += tstep*fS\n",
    "        I += tstep*fI\n",
    "        S[:,0] = S[:,-1] = I[:,0] = I[:,-1] = 0\n",
    "\n",
    "    return S,I\n",
    "\n",
    "def solve2(S,I,lamb,tstep=.1,t_max = 50000):\n",
    "    for _ in range(t_max):\n",
    "        S += tstep*(-S*I + laplacian(S))\n",
    "        I += tstep*(S*I - lamb*I + laplacian(I))\n",
    "        S[:,0] = S[:,-1] = I[:,0] = I[:,-1] = 0\n",
    "    return S,I\n",
    "\n",
    "def laplacian(grid):\n",
    "    return cp.roll(grid,1,axis=0) + cp.roll(grid,-1,axis=0) + cp.roll(grid,1,axis=1) + cp.roll(grid,-1,axis=1) - 4*grid"
   ]
  },
  {
   "cell_type": "code",
   "execution_count": 105,
   "metadata": {},
   "outputs": [],
   "source": [
    "L = 1024\n",
    "p = 0\n",
    "l = .2\n",
    "lamb = cp.random.choice([0,l],size=(L,L),p = [p,1-p])\n",
    "S = cp.ones((L,L))\n",
    "I = cp.zeros((L,L))\n",
    "S[:,1] = cp.zeros_like(S[:,1])\n",
    "I[:,1] = cp.ones_like(I[:,1])\n",
    "\n",
    "b = solve(S,I,lamb,t_max=1000)[1]"
   ]
  },
  {
   "cell_type": "code",
   "execution_count": 102,
   "metadata": {},
   "outputs": [],
   "source": [
    "L = 1024\n",
    "p = 0\n",
    "l = .2\n",
    "lamb = cp.random.choice([0,l],size=(L,L),p = [p,1-p])\n",
    "S = cp.ones((L,L))\n",
    "I = cp.zeros((L,L))\n",
    "S[:,1] = cp.zeros_like(S[:,1])\n",
    "I[:,1] = cp.ones_like(I[:,1])\n",
    "\n",
    "b = solve2(S,I,lamb,t_max=1000)[1]"
   ]
  }
 ],
 "metadata": {
  "interpreter": {
   "hash": "f2d02e32de1a26c9ade085831f60d765228fe9cbe55e68a3c778de9bcfe4f7c5"
  },
  "kernelspec": {
   "display_name": "Python 3.9.7 ('base')",
   "language": "python",
   "name": "python3"
  },
  "language_info": {
   "codemirror_mode": {
    "name": "ipython",
    "version": 3
   },
   "file_extension": ".py",
   "mimetype": "text/x-python",
   "name": "python",
   "nbconvert_exporter": "python",
   "pygments_lexer": "ipython3",
   "version": "3.9.7"
  },
  "orig_nbformat": 4
 },
 "nbformat": 4,
 "nbformat_minor": 2
}
